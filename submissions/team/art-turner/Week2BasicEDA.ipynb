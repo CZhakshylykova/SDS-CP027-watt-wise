{
 "cells": [
  {
   "cell_type": "code",
   "execution_count": 1,
   "id": "702d7ec5-4d6e-4a53-b396-9a82c3578533",
   "metadata": {},
   "outputs": [],
   "source": [
    "import pandas as pd"
   ]
  },
  {
   "cell_type": "code",
   "execution_count": 2,
   "id": "c3d3a0e9-c8fe-4c5c-8f3e-1c1d35e19b21",
   "metadata": {},
   "outputs": [],
   "source": [
    "df = pd.read_csv(\"local_data\\Energy_consumption.csv\")"
   ]
  },
  {
   "cell_type": "code",
   "execution_count": 5,
   "id": "a4db8e67-d339-4ab2-97d4-49f22b23a8bc",
   "metadata": {},
   "outputs": [
    {
     "data": {
      "text/html": [
       "<div>\n",
       "<style scoped>\n",
       "    .dataframe tbody tr th:only-of-type {\n",
       "        vertical-align: middle;\n",
       "    }\n",
       "\n",
       "    .dataframe tbody tr th {\n",
       "        vertical-align: top;\n",
       "    }\n",
       "\n",
       "    .dataframe thead th {\n",
       "        text-align: right;\n",
       "    }\n",
       "</style>\n",
       "<table border=\"1\" class=\"dataframe\">\n",
       "  <thead>\n",
       "    <tr style=\"text-align: right;\">\n",
       "      <th></th>\n",
       "      <th>Timestamp</th>\n",
       "      <th>Temperature</th>\n",
       "      <th>Humidity</th>\n",
       "      <th>SquareFootage</th>\n",
       "      <th>Occupancy</th>\n",
       "      <th>HVACUsage</th>\n",
       "      <th>LightingUsage</th>\n",
       "      <th>RenewableEnergy</th>\n",
       "      <th>DayOfWeek</th>\n",
       "      <th>Holiday</th>\n",
       "      <th>EnergyConsumption</th>\n",
       "    </tr>\n",
       "  </thead>\n",
       "  <tbody>\n",
       "    <tr>\n",
       "      <th>0</th>\n",
       "      <td>2022-01-01 00:00:00</td>\n",
       "      <td>25.139433</td>\n",
       "      <td>43.431581</td>\n",
       "      <td>1565.693999</td>\n",
       "      <td>5</td>\n",
       "      <td>On</td>\n",
       "      <td>Off</td>\n",
       "      <td>2.774699</td>\n",
       "      <td>Monday</td>\n",
       "      <td>No</td>\n",
       "      <td>75.364373</td>\n",
       "    </tr>\n",
       "    <tr>\n",
       "      <th>1</th>\n",
       "      <td>2022-01-01 01:00:00</td>\n",
       "      <td>27.731651</td>\n",
       "      <td>54.225919</td>\n",
       "      <td>1411.064918</td>\n",
       "      <td>1</td>\n",
       "      <td>On</td>\n",
       "      <td>On</td>\n",
       "      <td>21.831384</td>\n",
       "      <td>Saturday</td>\n",
       "      <td>No</td>\n",
       "      <td>83.401855</td>\n",
       "    </tr>\n",
       "    <tr>\n",
       "      <th>2</th>\n",
       "      <td>2022-01-01 02:00:00</td>\n",
       "      <td>28.704277</td>\n",
       "      <td>58.907658</td>\n",
       "      <td>1755.715009</td>\n",
       "      <td>2</td>\n",
       "      <td>Off</td>\n",
       "      <td>Off</td>\n",
       "      <td>6.764672</td>\n",
       "      <td>Sunday</td>\n",
       "      <td>No</td>\n",
       "      <td>78.270888</td>\n",
       "    </tr>\n",
       "    <tr>\n",
       "      <th>3</th>\n",
       "      <td>2022-01-01 03:00:00</td>\n",
       "      <td>20.080469</td>\n",
       "      <td>50.371637</td>\n",
       "      <td>1452.316318</td>\n",
       "      <td>1</td>\n",
       "      <td>Off</td>\n",
       "      <td>On</td>\n",
       "      <td>8.623447</td>\n",
       "      <td>Wednesday</td>\n",
       "      <td>No</td>\n",
       "      <td>56.519850</td>\n",
       "    </tr>\n",
       "    <tr>\n",
       "      <th>4</th>\n",
       "      <td>2022-01-01 04:00:00</td>\n",
       "      <td>23.097359</td>\n",
       "      <td>51.401421</td>\n",
       "      <td>1094.130359</td>\n",
       "      <td>9</td>\n",
       "      <td>On</td>\n",
       "      <td>Off</td>\n",
       "      <td>3.071969</td>\n",
       "      <td>Friday</td>\n",
       "      <td>No</td>\n",
       "      <td>70.811732</td>\n",
       "    </tr>\n",
       "  </tbody>\n",
       "</table>\n",
       "</div>"
      ],
      "text/plain": [
       "             Timestamp  Temperature   Humidity  SquareFootage  Occupancy  \\\n",
       "0  2022-01-01 00:00:00    25.139433  43.431581    1565.693999          5   \n",
       "1  2022-01-01 01:00:00    27.731651  54.225919    1411.064918          1   \n",
       "2  2022-01-01 02:00:00    28.704277  58.907658    1755.715009          2   \n",
       "3  2022-01-01 03:00:00    20.080469  50.371637    1452.316318          1   \n",
       "4  2022-01-01 04:00:00    23.097359  51.401421    1094.130359          9   \n",
       "\n",
       "  HVACUsage LightingUsage  RenewableEnergy  DayOfWeek Holiday  \\\n",
       "0        On           Off         2.774699     Monday      No   \n",
       "1        On            On        21.831384   Saturday      No   \n",
       "2       Off           Off         6.764672     Sunday      No   \n",
       "3       Off            On         8.623447  Wednesday      No   \n",
       "4        On           Off         3.071969     Friday      No   \n",
       "\n",
       "   EnergyConsumption  \n",
       "0          75.364373  \n",
       "1          83.401855  \n",
       "2          78.270888  \n",
       "3          56.519850  \n",
       "4          70.811732  "
      ]
     },
     "execution_count": 5,
     "metadata": {},
     "output_type": "execute_result"
    }
   ],
   "source": [
    "df.head()"
   ]
  },
  {
   "cell_type": "code",
   "execution_count": 6,
   "id": "60f63dfc-66f5-4748-be17-1b371c1caf84",
   "metadata": {},
   "outputs": [
    {
     "name": "stdout",
     "output_type": "stream",
     "text": [
      "<class 'pandas.core.frame.DataFrame'>\n",
      "RangeIndex: 1000 entries, 0 to 999\n",
      "Data columns (total 11 columns):\n",
      " #   Column             Non-Null Count  Dtype  \n",
      "---  ------             --------------  -----  \n",
      " 0   Timestamp          1000 non-null   object \n",
      " 1   Temperature        1000 non-null   float64\n",
      " 2   Humidity           1000 non-null   float64\n",
      " 3   SquareFootage      1000 non-null   float64\n",
      " 4   Occupancy          1000 non-null   int64  \n",
      " 5   HVACUsage          1000 non-null   object \n",
      " 6   LightingUsage      1000 non-null   object \n",
      " 7   RenewableEnergy    1000 non-null   float64\n",
      " 8   DayOfWeek          1000 non-null   object \n",
      " 9   Holiday            1000 non-null   object \n",
      " 10  EnergyConsumption  1000 non-null   float64\n",
      "dtypes: float64(5), int64(1), object(5)\n",
      "memory usage: 86.1+ KB\n"
     ]
    }
   ],
   "source": [
    "df.info()"
   ]
  },
  {
   "cell_type": "code",
   "execution_count": null,
   "id": "e296c0bb-0a3e-4bc5-9ba7-dea891409f20",
   "metadata": {},
   "outputs": [],
   "source": []
  }
 ],
 "metadata": {
  "kernelspec": {
   "display_name": "Python (wattwise)",
   "language": "python",
   "name": "wattwise"
  },
  "language_info": {
   "codemirror_mode": {
    "name": "ipython",
    "version": 3
   },
   "file_extension": ".py",
   "mimetype": "text/x-python",
   "name": "python",
   "nbconvert_exporter": "python",
   "pygments_lexer": "ipython3",
   "version": "3.9.21"
  }
 },
 "nbformat": 4,
 "nbformat_minor": 5
}
